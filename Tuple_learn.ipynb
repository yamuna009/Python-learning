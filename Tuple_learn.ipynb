{
 "cells": [
  {
   "cell_type": "code",
   "execution_count": 1,
   "id": "9a428776-3c00-461d-9bf0-dee18ff6c360",
   "metadata": {},
   "outputs": [
    {
     "name": "stdout",
     "output_type": "stream",
     "text": [
      "(1, 2, 3, 4, 5) <class 'tuple'>\n"
     ]
    }
   ],
   "source": [
    "tup = (1,2,3,4,5)\n",
    "print(tup,type(tup))"
   ]
  },
  {
   "cell_type": "code",
   "execution_count": 21,
   "id": "30643d51-ffe2-4603-9a43-b9d69854e7d0",
   "metadata": {},
   "outputs": [
    {
     "name": "stdout",
     "output_type": "stream",
     "text": [
      "welcome <class 'str'>\n",
      "('welcome',) <class 'tuple'>\n"
     ]
    }
   ],
   "source": [
    "tup1 = (\"welcome\")\n",
    "tup1_0 = ('welcome',)\n",
    "print(tup1,type(tup1))\n",
    "print(tup1_0,type(tup1_0))"
   ]
  },
  {
   "cell_type": "code",
   "execution_count": 55,
   "id": "698981e5-2eb1-45bb-a3fa-d333c1ae4015",
   "metadata": {},
   "outputs": [
    {
     "name": "stdout",
     "output_type": "stream",
     "text": [
      "('welcome', 'to', 'the', 'world', 'of', 'python') <class 'tuple'>\n"
     ]
    }
   ],
   "source": [
    "tup1_0 = (\"welcome\", \"to\", \"the\", \"world\", \"of\", \"python\")\n",
    "print(tup1_0, type(tup1_0))"
   ]
  },
  {
   "cell_type": "code",
   "execution_count": 3,
   "id": "4abcb0c8-538f-4c6d-a093-01fc7b781d84",
   "metadata": {},
   "outputs": [
    {
     "name": "stdout",
     "output_type": "stream",
     "text": [
      "('A', 'b', 'c') <class 'tuple'>\n"
     ]
    }
   ],
   "source": [
    "tup2 = ('A','b','c')\n",
    "print(tup2, type(tup2))"
   ]
  },
  {
   "cell_type": "code",
   "execution_count": 22,
   "id": "287f3bb9-46f7-444b-925a-7d90830a5018",
   "metadata": {},
   "outputs": [
    {
     "name": "stdout",
     "output_type": "stream",
     "text": [
      "1 <class 'int'>\n",
      "(1,) <class 'tuple'>\n"
     ]
    }
   ],
   "source": [
    "tup3 = (1)\n",
    "tup3_0 = (1,)\n",
    "print(tup3, type(tup3))\n",
    "print(tup3_0, type(tup3_0))"
   ]
  },
  {
   "cell_type": "code",
   "execution_count": 5,
   "id": "2d9e3aef-9f55-4538-92fb-412207b3b064",
   "metadata": {},
   "outputs": [
    {
     "name": "stdout",
     "output_type": "stream",
     "text": [
      "2.0 <class 'float'>\n"
     ]
    }
   ],
   "source": [
    "tup4 = (2.0)\n",
    "tup4_0 = (2.0,)\n",
    "print(tup4, type(tup4))\n",
    "print(tup4_0, type(tup4_0))"
   ]
  },
  {
   "cell_type": "code",
   "execution_count": 56,
   "id": "49fe3b99-8054-4f5a-a4f4-257d1282d28c",
   "metadata": {},
   "outputs": [
    {
     "name": "stdout",
     "output_type": "stream",
     "text": [
      "A <class 'str'>\n",
      "('A',) <class 'tuple'>\n"
     ]
    }
   ],
   "source": [
    "tup5 =('A')\n",
    "tup5_0 =('A',)\n",
    "print(tup5, type(tup5))\n",
    "print(tup5_0, type(tup5_0))"
   ]
  },
  {
   "cell_type": "code",
   "execution_count": 7,
   "id": "6868fd6a-e539-482a-a0a0-ef3dd3d16817",
   "metadata": {},
   "outputs": [
    {
     "name": "stdout",
     "output_type": "stream",
     "text": [
      "(1, 2, 2, 5, 4, 6) <class 'tuple'>\n"
     ]
    }
   ],
   "source": [
    "#duplicates are allowed\n",
    "tup6 = (1,2,2,5,4,6)\n",
    "print(tup6,type(tup6))"
   ]
  },
  {
   "cell_type": "code",
   "execution_count": 12,
   "id": "2688ab07-f29d-4d1f-bf04-88b664ab7a9c",
   "metadata": {},
   "outputs": [],
   "source": [
    "# But immutable\n",
    "\n",
    "##tup6[2] = 3\n",
    "\n",
    "\n",
    "#TypeError                                 Traceback (most recent call last)\n",
    "#Cell In[8], line 2\n",
    "#      1 # But immutable\n",
    "#----> 2 tup6[2] = 3\n",
    "\n",
    "#TypeError: 'tuple' object does not support item assignment"
   ]
  },
  {
   "cell_type": "code",
   "execution_count": 14,
   "id": "911fbd6d-d343-4dac-926e-c62f44a5a260",
   "metadata": {},
   "outputs": [
    {
     "name": "stdout",
     "output_type": "stream",
     "text": [
      "(10, 11, 12) <class 'tuple'>\n"
     ]
    }
   ],
   "source": [
    "# but we can reassign object or values to existing tuple \n",
    "tup6 =(10,11,12)\n",
    "print(tup6, type(tup6))"
   ]
  },
  {
   "cell_type": "code",
   "execution_count": 57,
   "id": "b7954da6-44f3-4069-a468-b9b83c685791",
   "metadata": {},
   "outputs": [
    {
     "data": {
      "text/plain": [
       "('of', 'world', 'the')"
      ]
     },
     "execution_count": 57,
     "metadata": {},
     "output_type": "execute_result"
    }
   ],
   "source": [
    "tup1_0[-2:1:-1] # in visualstudio IDE you will this output -> ('of', 'world', 'the')"
   ]
  },
  {
   "cell_type": "code",
   "execution_count": 20,
   "id": "f5c842a7-1a7c-46a4-a40b-027b60bc7713",
   "metadata": {},
   "outputs": [
    {
     "name": "stdout",
     "output_type": "stream",
     "text": [
      "('of', 'world', 'the', 'to')\n",
      "('of', 'world', 'the', 'to')\n",
      "('to', 'the', 'world', 'of')\n"
     ]
    }
   ],
   "source": [
    "tup1_0 = (\"welcome\", \"to\", \"the\", \"world\", \"of\", \"python\")\n",
    "print(tup1_0[-2:0:-1])\n",
    "print(tup1_0[-2:-6:-1])\n",
    "print(tup1_0[1:5]) \n",
    "#('of', 'world', 'the', 'to')\n",
    "#('of', 'world', 'the', 'to')\n",
    "#('to', 'the', 'world', 'of')"
   ]
  },
  {
   "cell_type": "code",
   "execution_count": 28,
   "id": "7ebefe48-364d-4b31-b24c-75dd69bb4dd8",
   "metadata": {},
   "outputs": [
    {
     "name": "stdout",
     "output_type": "stream",
     "text": [
      "3\n"
     ]
    }
   ],
   "source": [
    "# with Tuple you can use only 2 methods count and index\n",
    "tup7 = (1,2,2,3,5,6,2,7)\n",
    "print(tup7.count(2))"
   ]
  },
  {
   "cell_type": "code",
   "execution_count": 29,
   "id": "5b1d62ba-dc9b-4692-bc34-fb4666b4fe95",
   "metadata": {},
   "outputs": [
    {
     "data": {
      "text/plain": [
       "6"
      ]
     },
     "execution_count": 29,
     "metadata": {},
     "output_type": "execute_result"
    }
   ],
   "source": [
    "tup7[5]"
   ]
  },
  {
   "cell_type": "code",
   "execution_count": 30,
   "id": "68a3ec95-7479-4ae9-895b-12d14b336c30",
   "metadata": {},
   "outputs": [
    {
     "data": {
      "text/plain": [
       "(2, 5, 2)"
      ]
     },
     "execution_count": 30,
     "metadata": {},
     "output_type": "execute_result"
    }
   ],
   "source": [
    "tup7[2:8:2]"
   ]
  },
  {
   "cell_type": "code",
   "execution_count": 31,
   "id": "937022e5-aa46-4aa1-8a60-1193578e6f91",
   "metadata": {},
   "outputs": [
    {
     "data": {
      "text/plain": [
       "(2, 6, 5, 3, 2, 2)"
      ]
     },
     "execution_count": 31,
     "metadata": {},
     "output_type": "execute_result"
    }
   ],
   "source": [
    "tup7[-2:0:-1]"
   ]
  },
  {
   "cell_type": "code",
   "execution_count": 32,
   "id": "c674d9df-7d91-422f-8407-af514020db0a",
   "metadata": {},
   "outputs": [
    {
     "data": {
      "text/plain": [
       "(2, 6, 5, 3, 2, 2, 1)"
      ]
     },
     "execution_count": 32,
     "metadata": {},
     "output_type": "execute_result"
    }
   ],
   "source": [
    "tup7[-2::-1]"
   ]
  },
  {
   "cell_type": "code",
   "execution_count": 37,
   "id": "0d6b6f87-aa26-4235-97d5-4163734c9ae2",
   "metadata": {},
   "outputs": [
    {
     "name": "stdout",
     "output_type": "stream",
     "text": [
      "(1, 3, 5, [2, 10], (6, 7, 8)) <class 'int'> <class 'list'>\n"
     ]
    }
   ],
   "source": [
    "tup8 = (1,3,5,[2,3],(6,7,8))\n",
    "tup8[3][1] = 10\n",
    "print(tup8, type(tup8[3][1]), type(tup8[3]))\n"
   ]
  },
  {
   "cell_type": "code",
   "execution_count": 38,
   "id": "8d2032a6-3422-4cad-8334-5b3bfb2c486e",
   "metadata": {},
   "outputs": [
    {
     "ename": "TypeError",
     "evalue": "'tuple' object does not support item assignment",
     "output_type": "error",
     "traceback": [
      "\u001b[1;31m---------------------------------------------------------------------------\u001b[0m",
      "\u001b[1;31mTypeError\u001b[0m                                 Traceback (most recent call last)",
      "Cell \u001b[1;32mIn[38], line 1\u001b[0m\n\u001b[1;32m----> 1\u001b[0m \u001b[43mtup8\u001b[49m\u001b[43m[\u001b[49m\u001b[38;5;241;43m4\u001b[39;49m\u001b[43m]\u001b[49m\u001b[43m[\u001b[49m\u001b[38;5;241;43m1\u001b[39;49m\u001b[43m]\u001b[49m \u001b[38;5;241m=\u001b[39m \u001b[38;5;241m3\u001b[39m\n\u001b[0;32m      2\u001b[0m \u001b[38;5;28mprint\u001b[39m(tup8)\n",
      "\u001b[1;31mTypeError\u001b[0m: 'tuple' object does not support item assignment"
     ]
    }
   ],
   "source": [
    "tup8[4][1] = 3\n",
    "print(tup8)"
   ]
  },
  {
   "cell_type": "code",
   "execution_count": 39,
   "id": "283d7742-1ab4-48ee-976b-43fbbf7954cf",
   "metadata": {},
   "outputs": [
    {
     "ename": "TypeError",
     "evalue": "'tuple' object does not support item assignment",
     "output_type": "error",
     "traceback": [
      "\u001b[1;31m---------------------------------------------------------------------------\u001b[0m",
      "\u001b[1;31mTypeError\u001b[0m                                 Traceback (most recent call last)",
      "Cell \u001b[1;32mIn[39], line 1\u001b[0m\n\u001b[1;32m----> 1\u001b[0m \u001b[43mtup8\u001b[49m\u001b[43m[\u001b[49m\u001b[38;5;241;43m2\u001b[39;49m\u001b[43m]\u001b[49m\u001b[38;5;241m=\u001b[39m \u001b[38;5;241m3\u001b[39m\n\u001b[0;32m      2\u001b[0m tup8\n",
      "\u001b[1;31mTypeError\u001b[0m: 'tuple' object does not support item assignment"
     ]
    }
   ],
   "source": [
    "tup8[2]= 3\n",
    "tup8"
   ]
  },
  {
   "cell_type": "code",
   "execution_count": 41,
   "id": "56acfef6-19ee-4a85-bd66-5b742b9228bc",
   "metadata": {},
   "outputs": [
    {
     "ename": "TypeError",
     "evalue": "'tuple' object does not support item assignment",
     "output_type": "error",
     "traceback": [
      "\u001b[1;31m---------------------------------------------------------------------------\u001b[0m",
      "\u001b[1;31mTypeError\u001b[0m                                 Traceback (most recent call last)",
      "Cell \u001b[1;32mIn[41], line 2\u001b[0m\n\u001b[0;32m      1\u001b[0m tup9 \u001b[38;5;241m=\u001b[39m (\u001b[38;5;241m1\u001b[39m,\u001b[38;5;241m2\u001b[39m,{\u001b[38;5;241m6\u001b[39m,\u001b[38;5;241m4\u001b[39m,\u001b[38;5;241m3\u001b[39m}, \u001b[38;5;124m\"\u001b[39m\u001b[38;5;124mwelcome\u001b[39m\u001b[38;5;124m\"\u001b[39m,\u001b[38;5;241m5\u001b[39m,\u001b[38;5;241m8\u001b[39m)\n\u001b[1;32m----> 2\u001b[0m \u001b[43mtup9\u001b[49m\u001b[43m[\u001b[49m\u001b[38;5;241;43m4\u001b[39;49m\u001b[43m]\u001b[49m \u001b[38;5;241m=\u001b[39m \u001b[38;5;124m'\u001b[39m\u001b[38;5;124mpython\u001b[39m\u001b[38;5;124m'\u001b[39m\n\u001b[0;32m      3\u001b[0m tup9[\u001b[38;5;241m2\u001b[39m][\u001b[38;5;241m2\u001b[39m]\u001b[38;5;241m=\u001b[39m \u001b[38;5;241m10\u001b[39m\n\u001b[0;32m      5\u001b[0m \u001b[38;5;28mprint\u001b[39m(tup9)\n",
      "\u001b[1;31mTypeError\u001b[0m: 'tuple' object does not support item assignment"
     ]
    }
   ],
   "source": [
    "tup9 = (1,2,{6,4,3}, \"welcome\",5,8)\n",
    "tup9[4] = 'python'\n",
    "print(tup9)"
   ]
  },
  {
   "cell_type": "code",
   "execution_count": 42,
   "id": "1bfb56fb-2c68-4e38-a300-7abff31e9ed9",
   "metadata": {},
   "outputs": [
    {
     "ename": "TypeError",
     "evalue": "'set' object does not support item assignment",
     "output_type": "error",
     "traceback": [
      "\u001b[1;31m---------------------------------------------------------------------------\u001b[0m",
      "\u001b[1;31mTypeError\u001b[0m                                 Traceback (most recent call last)",
      "Cell \u001b[1;32mIn[42], line 1\u001b[0m\n\u001b[1;32m----> 1\u001b[0m \u001b[43mtup9\u001b[49m\u001b[43m[\u001b[49m\u001b[38;5;241;43m2\u001b[39;49m\u001b[43m]\u001b[49m\u001b[43m[\u001b[49m\u001b[38;5;241;43m1\u001b[39;49m\u001b[43m]\u001b[49m \u001b[38;5;241m=\u001b[39m \u001b[38;5;241m10\u001b[39m\n",
      "\u001b[1;31mTypeError\u001b[0m: 'set' object does not support item assignment"
     ]
    }
   ],
   "source": [
    "tup9[2][1] = 10"
   ]
  },
  {
   "cell_type": "code",
   "execution_count": 44,
   "id": "5ef79489-5551-4bd1-bebb-a078afea012a",
   "metadata": {},
   "outputs": [
    {
     "name": "stdout",
     "output_type": "stream",
     "text": [
      "(1, 2, {'a': 6, 'b': 4, 'c': 3, 1: 10}, 'welcome', 5, 8)\n"
     ]
    }
   ],
   "source": [
    "tup10 = (1,2,{'a':6,'b':4,'c':3}, \"welcome\",5,8)\n",
    "tup10[2][1] = 10\n",
    "print(tup10)"
   ]
  },
  {
   "cell_type": "code",
   "execution_count": 45,
   "id": "a7cfe3c9-c064-4a7f-83f0-cbeb2d2e414a",
   "metadata": {},
   "outputs": [
    {
     "name": "stdout",
     "output_type": "stream",
     "text": [
      "(1, 2, {'a': 6, 'b': 4, 'c': 3, 2: 10}, 'welcome', 5, 8)\n"
     ]
    }
   ],
   "source": [
    "tup10 = (1,2,{'a':6,'b':4,'c':3}, \"welcome\",5,8)\n",
    "tup10[2][2] = 10\n",
    "print(tup10)"
   ]
  },
  {
   "cell_type": "code",
   "execution_count": 59,
   "id": "15c195b9-43f1-416b-b2dd-fd681db8122c",
   "metadata": {},
   "outputs": [
    {
     "name": "stdout",
     "output_type": "stream",
     "text": [
      "(1, 2, {'a': 6, 'b': 10, 'c': 3}, 'welcome', 5, 8) <class 'int'> <class 'dict'>\n"
     ]
    }
   ],
   "source": [
    "tup10 = (1,2,{'a':6,'b':4,'c':3}, \"welcome\",5,8)\n",
    "tup10[2]['b'] = 10\n",
    "print(tup10, type(tup10[2]['b']),type(tup10[2]))"
   ]
  },
  {
   "cell_type": "code",
   "execution_count": 48,
   "id": "9f20e47a-cbbc-43d3-8215-6bbafc31195f",
   "metadata": {},
   "outputs": [
    {
     "ename": "TypeError",
     "evalue": "'str' object does not support item assignment",
     "output_type": "error",
     "traceback": [
      "\u001b[1;31m---------------------------------------------------------------------------\u001b[0m",
      "\u001b[1;31mTypeError\u001b[0m                                 Traceback (most recent call last)",
      "Cell \u001b[1;32mIn[48], line 1\u001b[0m\n\u001b[1;32m----> 1\u001b[0m \u001b[43mtup10\u001b[49m\u001b[43m[\u001b[49m\u001b[38;5;241;43m3\u001b[39;49m\u001b[43m]\u001b[49m\u001b[43m[\u001b[49m\u001b[38;5;241;43m1\u001b[39;49m\u001b[43m]\u001b[49m \u001b[38;5;241m=\u001b[39m \u001b[38;5;124m'\u001b[39m\u001b[38;5;124mi\u001b[39m\u001b[38;5;124m'\u001b[39m\n",
      "\u001b[1;31mTypeError\u001b[0m: 'str' object does not support item assignment"
     ]
    }
   ],
   "source": [
    "tup10[3][1] = 'i'"
   ]
  },
  {
   "cell_type": "code",
   "execution_count": 51,
   "id": "1892b0ab-aa03-4809-aa2a-0142d7d669c3",
   "metadata": {},
   "outputs": [
    {
     "name": "stdout",
     "output_type": "stream",
     "text": [
      "e <class 'str'> <class 'str'>\n"
     ]
    }
   ],
   "source": [
    "print(tup10[3][1], type(tup10[3][1]), type(tup10[3]))"
   ]
  },
  {
   "cell_type": "code",
   "execution_count": 52,
   "id": "b53eb9ee-06ee-4227-807d-25e0a0c725d1",
   "metadata": {},
   "outputs": [
    {
     "ename": "TypeError",
     "evalue": "'tuple' object does not support item assignment",
     "output_type": "error",
     "traceback": [
      "\u001b[1;31m---------------------------------------------------------------------------\u001b[0m",
      "\u001b[1;31mTypeError\u001b[0m                                 Traceback (most recent call last)",
      "Cell \u001b[1;32mIn[52], line 1\u001b[0m\n\u001b[1;32m----> 1\u001b[0m \u001b[43mtup10\u001b[49m\u001b[43m[\u001b[49m\u001b[38;5;241;43m3\u001b[39;49m\u001b[43m]\u001b[49m \u001b[38;5;241m=\u001b[39m \u001b[38;5;124m'\u001b[39m\u001b[38;5;124mpython\u001b[39m\u001b[38;5;124m'\u001b[39m\n\u001b[0;32m      2\u001b[0m tup10\n",
      "\u001b[1;31mTypeError\u001b[0m: 'tuple' object does not support item assignment"
     ]
    }
   ],
   "source": [
    "tup10[3] = 'python'\n",
    "tup10"
   ]
  },
  {
   "cell_type": "code",
   "execution_count": 53,
   "id": "f87eb9c7-faf5-47a7-878c-c3051cb78c2b",
   "metadata": {},
   "outputs": [
    {
     "data": {
      "text/plain": [
       "'welcome'"
      ]
     },
     "execution_count": 53,
     "metadata": {},
     "output_type": "execute_result"
    }
   ],
   "source": [
    "tup10[3]"
   ]
  },
  {
   "cell_type": "code",
   "execution_count": 54,
   "id": "d16d4489-ac09-4d5d-a8de-ee85c4aa77e6",
   "metadata": {},
   "outputs": [
    {
     "data": {
      "text/plain": [
       "'python'"
      ]
     },
     "execution_count": 54,
     "metadata": {},
     "output_type": "execute_result"
    }
   ],
   "source": [
    "str = 'welcome'\n",
    "str = 'python'\n",
    "str"
   ]
  },
  {
   "cell_type": "code",
   "execution_count": null,
   "id": "3658c10e-896b-479a-9cab-f952cab01932",
   "metadata": {},
   "outputs": [],
   "source": []
  }
 ],
 "metadata": {
  "kernelspec": {
   "display_name": "Python 3 (ipykernel)",
   "language": "python",
   "name": "python3"
  },
  "language_info": {
   "codemirror_mode": {
    "name": "ipython",
    "version": 3
   },
   "file_extension": ".py",
   "mimetype": "text/x-python",
   "name": "python",
   "nbconvert_exporter": "python",
   "pygments_lexer": "ipython3",
   "version": "3.8.18"
  }
 },
 "nbformat": 4,
 "nbformat_minor": 5
}
