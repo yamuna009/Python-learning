{
 "cells": [
  {
   "cell_type": "code",
   "execution_count": 2,
   "id": "734d4b8a-234f-4fe2-a3f0-e04dc974a416",
   "metadata": {},
   "outputs": [
    {
     "data": {
      "text/plain": [
       "{'a': 1, 'b': 2, 'c': 3, 'd': 4, 'e': 5}"
      ]
     },
     "execution_count": 2,
     "metadata": {},
     "output_type": "execute_result"
    }
   ],
   "source": [
    "dict1 = {1,2,3,4,5} #this is set\n",
    "dict1 = {'a':1,'b':2,'c':3,'d':4,'e':5}\n",
    "dict1"
   ]
  },
  {
   "cell_type": "code",
   "execution_count": 3,
   "id": "698a3d1c-e770-4e25-b68b-59ffa747b16b",
   "metadata": {},
   "outputs": [
    {
     "data": {
      "text/plain": [
       "{1: 10, 2: 20, 3: 30, 4: 40, 5: 50}"
      ]
     },
     "execution_count": 3,
     "metadata": {},
     "output_type": "execute_result"
    }
   ],
   "source": [
    "dict2 = {1:10,2:20,3:30,4:40,5:50}\n",
    "dict2"
   ]
  },
  {
   "cell_type": "code",
   "execution_count": 4,
   "id": "1c7d25c7-5090-41ae-ab68-639ae7ae8a1b",
   "metadata": {},
   "outputs": [
    {
     "data": {
      "text/plain": [
       "{'apple': 1, 'bananna': 2, 'cantalope': 3, 'dragonfruit': 4, 'emu berry': 5}"
      ]
     },
     "execution_count": 4,
     "metadata": {},
     "output_type": "execute_result"
    }
   ],
   "source": [
    "dict3 = {'apple':1,'banana':2,'cantalope':3,'dragonfruit':4,'emu berry':5}\n",
    "dict3"
   ]
  },
  {
   "cell_type": "code",
   "execution_count": 5,
   "id": "d72017a5-6e57-4a93-8c75-662d07503a13",
   "metadata": {},
   "outputs": [
    {
     "data": {
      "text/plain": [
       "{1.0: 11, 2.2: 22, 3.9: 33}"
      ]
     },
     "execution_count": 5,
     "metadata": {},
     "output_type": "execute_result"
    }
   ],
   "source": [
    "dict4 = {1.0:11, 2.2:22, 3.9:33}\n",
    "dict4"
   ]
  },
  {
   "cell_type": "code",
   "execution_count": 8,
   "id": "e49f4ee1-0d00-4845-bd14-a496a46cf444",
   "metadata": {},
   "outputs": [
    {
     "data": {
      "text/plain": [
       "{0j: 10, (1+0j): 20, (3+3j): 30}"
      ]
     },
     "execution_count": 8,
     "metadata": {},
     "output_type": "execute_result"
    }
   ],
   "source": [
    "dict5 = {0+0j:10, 1+0j:20, 3+3j:30}\n",
    "dict5"
   ]
  },
  {
   "cell_type": "code",
   "execution_count": 9,
   "id": "08fa26c5-f1bd-4495-99df-8fef0ed453e4",
   "metadata": {},
   "outputs": [
    {
     "ename": "TypeError",
     "evalue": "unhashable type: 'list'",
     "output_type": "error",
     "traceback": [
      "\u001b[1;31m---------------------------------------------------------------------------\u001b[0m",
      "\u001b[1;31mTypeError\u001b[0m                                 Traceback (most recent call last)",
      "Cell \u001b[1;32mIn[9], line 1\u001b[0m\n\u001b[1;32m----> 1\u001b[0m dict6 \u001b[38;5;241m=\u001b[39m {[\u001b[38;5;241m1\u001b[39m,\u001b[38;5;241m2\u001b[39m]:\u001b[38;5;241m10\u001b[39m, [\u001b[38;5;241m2\u001b[39m,\u001b[38;5;241m3\u001b[39m]:\u001b[38;5;241m20\u001b[39m, [\u001b[38;5;241m3\u001b[39m,\u001b[38;5;241m6\u001b[39m]:\u001b[38;5;241m30\u001b[39m}\n\u001b[0;32m      2\u001b[0m dict6\n",
      "\u001b[1;31mTypeError\u001b[0m: unhashable type: 'list'"
     ]
    }
   ],
   "source": [
    "dict6 = {[1,2]:10, [2,3]:20, [3,6]:30}  # key value must be immutable (int, float, comples and string) and \n",
    "#should not be container data type, but string is exceptional case here.\n",
    "#list, dictionary, tuple and set are not used as key. but can be used as value.\n",
    "dict6"
   ]
  },
  {
   "cell_type": "code",
   "execution_count": 10,
   "id": "6f7ed087-ce19-4625-ae25-cfc448e4ace4",
   "metadata": {},
   "outputs": [
    {
     "data": {
      "text/plain": [
       "{1: 10, 2: 20, 3: 10, 4: 30}"
      ]
     },
     "execution_count": 10,
     "metadata": {},
     "output_type": "execute_result"
    }
   ],
   "source": [
    "# duplicate values allowed\n",
    "dict7 = {1:10, 2:20, 3:10, 4:30}\n",
    "dict7"
   ]
  },
  {
   "cell_type": "code",
   "execution_count": 11,
   "id": "e4616003-81bd-4f8a-8edb-7b1f1704014d",
   "metadata": {},
   "outputs": [
    {
     "data": {
      "text/plain": [
       "10"
      ]
     },
     "execution_count": 11,
     "metadata": {},
     "output_type": "execute_result"
    }
   ],
   "source": [
    "dict7[3] # dictionary accessed through key and not through indexing. this is the difference between dictionary with list and tuple."
   ]
  },
  {
   "cell_type": "code",
   "execution_count": 14,
   "id": "a9bc1f0a-6a33-4b27-a0ee-245e4e116ede",
   "metadata": {},
   "outputs": [
    {
     "data": {
      "text/plain": [
       "(1, 2, {'a': 6, 'b': 4, 'c': 3, 2: 10}, 'welcome', 5, 8)"
      ]
     },
     "execution_count": 14,
     "metadata": {},
     "output_type": "execute_result"
    }
   ],
   "source": [
    "#type casting \n",
    "tup10 = (1, 2, {'a': 6, 'b': 4, 'c': 3}, \"welcome\", 5, 8)\n",
    "tup10[2][2] = 10 # new key formed since there no key 2 present in dict, and assigns value 10 to key 2. \n",
    "tup10"
   ]
  },
  {
   "cell_type": "code",
   "execution_count": 15,
   "id": "ac628475-7500-4d5c-b88b-45ecccf86e2e",
   "metadata": {},
   "outputs": [
    {
     "ename": "KeyError",
     "evalue": "2",
     "output_type": "error",
     "traceback": [
      "\u001b[1;31m---------------------------------------------------------------------------\u001b[0m",
      "\u001b[1;31mKeyError\u001b[0m                                  Traceback (most recent call last)",
      "Cell \u001b[1;32mIn[15], line 2\u001b[0m\n\u001b[0;32m      1\u001b[0m tup10 \u001b[38;5;241m=\u001b[39m (\u001b[38;5;241m1\u001b[39m, \u001b[38;5;241m2\u001b[39m, {\u001b[38;5;124m'\u001b[39m\u001b[38;5;124ma\u001b[39m\u001b[38;5;124m'\u001b[39m: \u001b[38;5;241m6\u001b[39m, \u001b[38;5;124m'\u001b[39m\u001b[38;5;124mb\u001b[39m\u001b[38;5;124m'\u001b[39m: \u001b[38;5;241m4\u001b[39m, \u001b[38;5;124m'\u001b[39m\u001b[38;5;124mc\u001b[39m\u001b[38;5;124m'\u001b[39m: \u001b[38;5;241m3\u001b[39m}, \u001b[38;5;124m\"\u001b[39m\u001b[38;5;124mwelcome\u001b[39m\u001b[38;5;124m\"\u001b[39m, \u001b[38;5;241m5\u001b[39m, \u001b[38;5;241m8\u001b[39m)\n\u001b[1;32m----> 2\u001b[0m \u001b[43mtup10\u001b[49m\u001b[43m[\u001b[49m\u001b[38;5;241;43m2\u001b[39;49m\u001b[43m]\u001b[49m\u001b[43m[\u001b[49m\u001b[38;5;241;43m2\u001b[39;49m\u001b[43m]\u001b[49m\n",
      "\u001b[1;31mKeyError\u001b[0m: 2"
     ]
    }
   ],
   "source": [
    "tup10 = (1, 2, {'a': 6, 'b': 4, 'c': 3}, \"welcome\", 5, 8)\n",
    "tup10[2][2] # it will print error because there is key 2 present in dictionary"
   ]
  },
  {
   "cell_type": "code",
   "execution_count": 16,
   "id": "17ceedd4-ec90-405d-ac1a-72a7e114dbaf",
   "metadata": {},
   "outputs": [
    {
     "ename": "TypeError",
     "evalue": "'int' object is not subscriptable",
     "output_type": "error",
     "traceback": [
      "\u001b[1;31m---------------------------------------------------------------------------\u001b[0m",
      "\u001b[1;31mTypeError\u001b[0m                                 Traceback (most recent call last)",
      "Cell \u001b[1;32mIn[16], line 2\u001b[0m\n\u001b[0;32m      1\u001b[0m dict4 \u001b[38;5;241m=\u001b[39m {\u001b[38;5;241m1\u001b[39m:\u001b[38;5;241m10\u001b[39m,\u001b[38;5;241m2\u001b[39m:\u001b[38;5;241m20\u001b[39m,\u001b[38;5;241m3\u001b[39m:\u001b[38;5;241m30\u001b[39m}\n\u001b[1;32m----> 2\u001b[0m \u001b[43mdict4\u001b[49m\u001b[43m[\u001b[49m\u001b[38;5;241;43m2\u001b[39;49m\u001b[43m]\u001b[49m\u001b[43m[\u001b[49m\u001b[38;5;241;43m2\u001b[39;49m\u001b[43m]\u001b[49m\n",
      "\u001b[1;31mTypeError\u001b[0m: 'int' object is not subscriptable"
     ]
    }
   ],
   "source": [
    "dict4 = {1:10,2:20,3:30}\n",
    "dict4[2][2]"
   ]
  },
  {
   "cell_type": "code",
   "execution_count": 21,
   "id": "15297db7-1e63-43a2-b92f-0eb307fcb1c4",
   "metadata": {},
   "outputs": [
    {
     "name": "stdout",
     "output_type": "stream",
     "text": [
      "{2: 20, 4: 40, 6: 60}\n"
     ]
    },
    {
     "data": {
      "text/plain": [
       "{1: 10, 4: 50, 5: {2: 10, 4: 40, 6: 60}, 3: 30}"
      ]
     },
     "execution_count": 21,
     "metadata": {},
     "output_type": "execute_result"
    }
   ],
   "source": [
    "dict8 = {1:10,4:50,5:{2:20,4:40,6:60},3:30}\n",
    "print(dict8[5])\n",
    "dict8[5][2] = 10\n",
    "dict8"
   ]
  },
  {
   "cell_type": "code",
   "execution_count": 22,
   "id": "f4434b43-4e99-40d0-a8b8-31467e7f9404",
   "metadata": {},
   "outputs": [
    {
     "name": "stdout",
     "output_type": "stream",
     "text": [
      "{2: 20, 4: 40, 6: 60}\n"
     ]
    },
    {
     "data": {
      "text/plain": [
       "{1: 10, 4: 50, 5: {2: 20, 4: 40, 6: 60, 3: 90}, 3: 30}"
      ]
     },
     "execution_count": 22,
     "metadata": {},
     "output_type": "execute_result"
    }
   ],
   "source": [
    "dict8 = {1:10,4:50,5:{2:20,4:40,6:60},3:30}\n",
    "print(dict8[5])\n",
    "dict8[5][3] = 90\n",
    "dict8"
   ]
  },
  {
   "cell_type": "code",
   "execution_count": 23,
   "id": "2fbb4288-5b22-46dd-820b-e001a290bdf8",
   "metadata": {},
   "outputs": [
    {
     "data": {
      "text/plain": [
       "{1: 10, 4: 40, 2: 20, 6: 60, 3: 30}"
      ]
     },
     "execution_count": 23,
     "metadata": {},
     "output_type": "execute_result"
    }
   ],
   "source": [
    "dict9 = {1: 10, 4: 50, 2: 20, 4: 40, 6: 60, 3: 90, 3: 30}\n",
    "dict9  # duplicate keys wont throw error, but takes last assigned value to it.\n"
   ]
  },
  {
   "cell_type": "code",
   "execution_count": 28,
   "id": "80f11740-3100-41c8-b71c-5c8c5bb3b7e2",
   "metadata": {},
   "outputs": [
    {
     "ename": "NameError",
     "evalue": "name 'keys' is not defined",
     "output_type": "error",
     "traceback": [
      "\u001b[1;31m---------------------------------------------------------------------------\u001b[0m",
      "\u001b[1;31mNameError\u001b[0m                                 Traceback (most recent call last)",
      "Cell \u001b[1;32mIn[28], line 2\u001b[0m\n\u001b[0;32m      1\u001b[0m dict10 \u001b[38;5;241m=\u001b[39m {\u001b[38;5;241m1\u001b[39m: \u001b[38;5;241m10\u001b[39m, \u001b[38;5;241m2\u001b[39m: \u001b[38;5;241m50\u001b[39m, \u001b[38;5;241m3\u001b[39m: \u001b[38;5;241m20\u001b[39m, \u001b[38;5;241m4\u001b[39m: \u001b[38;5;241m40\u001b[39m, \u001b[38;5;241m5\u001b[39m: \u001b[38;5;241m60\u001b[39m, \u001b[38;5;241m6\u001b[39m: \u001b[38;5;241m90\u001b[39m, \u001b[38;5;241m7\u001b[39m: \u001b[38;5;241m30\u001b[39m}\n\u001b[1;32m----> 2\u001b[0m dict10[\u001b[43mkeys\u001b[49m]\n",
      "\u001b[1;31mNameError\u001b[0m: name 'keys' is not defined"
     ]
    }
   ],
   "source": [
    "dict10 = {1: 10, 2: 50, 3: 20, 4: 40, 5: 60, 6: 90, 7: 30}\n",
    "dict10[keys]"
   ]
  },
  {
   "cell_type": "code",
   "execution_count": 30,
   "id": "fb4da4f7-a7ee-4a03-96f5-e7b81eb0586b",
   "metadata": {},
   "outputs": [
    {
     "data": {
      "text/plain": [
       "dict_keys([1, 2, 3, 4, 5, 6, 7])"
      ]
     },
     "execution_count": 30,
     "metadata": {},
     "output_type": "execute_result"
    }
   ],
   "source": [
    "dict10 = {1: 10, 2: 50, 3: 20, 4: 40, 5: 60, 6: 90, 7: 30}\n",
    "dict10.keys() # \"dict_keys\" is an object which wraps the list of keys. "
   ]
  },
  {
   "cell_type": "code",
   "execution_count": 31,
   "id": "b22cd3bb-768d-42c7-8135-de05148a4141",
   "metadata": {},
   "outputs": [
    {
     "data": {
      "text/plain": [
       "dict_values([10, 50, 20, 40, 60, 90, 30])"
      ]
     },
     "execution_count": 31,
     "metadata": {},
     "output_type": "execute_result"
    }
   ],
   "source": [
    "dict10.values() # \"dict_values\" is an object which wraps list of values"
   ]
  },
  {
   "cell_type": "code",
   "execution_count": 34,
   "id": "1a6ffdf2-a4bd-476e-a4c3-be24c9edb78a",
   "metadata": {},
   "outputs": [
    {
     "data": {
      "text/plain": [
       "dict_items([(1, 10), (2, 50), (3, 20), (4, 40), (5, 60), (6, 90), (7, 30)])"
      ]
     },
     "execution_count": 34,
     "metadata": {},
     "output_type": "execute_result"
    }
   ],
   "source": [
    "dict10.items() # \"dict_item\" is a view object, the output is wrapped inside this object,\n",
    "# in the form of list of tuples."
   ]
  },
  {
   "cell_type": "code",
   "execution_count": 38,
   "id": "b90afa3f-e3d5-452a-ae91-633dad2e0164",
   "metadata": {},
   "outputs": [
    {
     "name": "stdout",
     "output_type": "stream",
     "text": [
      "Key: a, Value: 1\n",
      "Key: b, Value: 2\n",
      "Key: c, Value: 3\n"
     ]
    }
   ],
   "source": [
    "dict11 = {'a': 1, 'b': 2, 'c': 3}\n",
    "\n",
    "# Using items() to iterate over key-value pairs\n",
    "for key, value in dict11.items():\n",
    "    print(f\"Key: {key}, Value: {value}\")\n"
   ]
  },
  {
   "cell_type": "code",
   "execution_count": 39,
   "id": "6eff9cd5-d2d9-47c3-a92a-576653839fc1",
   "metadata": {},
   "outputs": [
    {
     "name": "stdout",
     "output_type": "stream",
     "text": [
      "Found banana with color yellow!\n"
     ]
    }
   ],
   "source": [
    "dict12 = {'apple': 'red', 'banana': 'yellow', 'grape': 'purple'}\n",
    "\n",
    "# Using items() to check if a key-value pair exists\n",
    "if ('banana', 'yellow') in dict12.items():\n",
    "    print(\"Found banana with color yellow!\")\n",
    "else:\n",
    "    print(\"No such pair found.\")\n"
   ]
  },
  {
   "cell_type": "code",
   "execution_count": 40,
   "id": "066a8561-3a02-42b5-8fc4-e3d86ed084ce",
   "metadata": {},
   "outputs": [
    {
     "name": "stdout",
     "output_type": "stream",
     "text": [
      "{'one': 10, 'two': 20, 'three': 30}\n"
     ]
    }
   ],
   "source": [
    "dict13 = {'one': 1, 'two': 2, 'three': 3}\n",
    "\n",
    "#  to create a new dictionary with modified values\n",
    "new_dict = {key: value * 10 for key, value in dict13.items()}\n",
    "print(new_dict)\n"
   ]
  },
  {
   "cell_type": "code",
   "execution_count": 43,
   "id": "fd2c7bb4-aa8e-48c8-b5ca-0d47bf9fb7e2",
   "metadata": {},
   "outputs": [
    {
     "name": "stdout",
     "output_type": "stream",
     "text": [
      "[('x', 10), ('y', 20), ('z', 30)]\n"
     ]
    }
   ],
   "source": [
    "dict14 = {'x': 10, 'y': 20, 'z': 30}\n",
    "\n",
    "# to convert dictionary items to a list of tuples\n",
    "items_list = list(dict14.items())\n",
    "print(items_list)\n"
   ]
  },
  {
   "cell_type": "code",
   "execution_count": 44,
   "id": "988e65d4-fd9c-40ef-9843-0f31c0a1d5d5",
   "metadata": {},
   "outputs": [
    {
     "name": "stdout",
     "output_type": "stream",
     "text": [
      "{'banana': 5, 'orange': 4}\n"
     ]
    }
   ],
   "source": [
    "dict15 = {'apple': 3, 'banana': 5, 'grape': 2, 'orange': 4}\n",
    "\n",
    "# to filter items based on a condition\n",
    "filtered_items = {k: v for k, v in dict15.items() if v > 3}\n",
    "print(filtered_items)\n"
   ]
  },
  {
   "cell_type": "code",
   "execution_count": 45,
   "id": "ddc22dfb-55b6-481b-b23e-b96bc52b0fe8",
   "metadata": {},
   "outputs": [
    {
     "name": "stdout",
     "output_type": "stream",
     "text": [
      "apple\n",
      "banana\n",
      "grape\n",
      "orange\n"
     ]
    }
   ],
   "source": [
    "for i in dict15:\n",
    "    print(i)"
   ]
  },
  {
   "cell_type": "code",
   "execution_count": 46,
   "id": "dc1fad78-36a1-4e81-aa74-b04c8761d735",
   "metadata": {},
   "outputs": [
    {
     "name": "stdout",
     "output_type": "stream",
     "text": [
      "3\n",
      "5\n",
      "2\n",
      "4\n"
     ]
    }
   ],
   "source": [
    "for i in dict15:\n",
    "    print(dict15[i])"
   ]
  },
  {
   "cell_type": "code",
   "execution_count": 47,
   "id": "18dd447d-3fd6-4693-8b03-4876abd74368",
   "metadata": {},
   "outputs": [
    {
     "name": "stdout",
     "output_type": "stream",
     "text": [
      "dict_values([3, 5, 2, 4])\n",
      "dict_values([3, 5, 2, 4])\n",
      "dict_values([3, 5, 2, 4])\n",
      "dict_values([3, 5, 2, 4])\n"
     ]
    }
   ],
   "source": [
    "for i in dict15:\n",
    "    print(dict15.values())"
   ]
  },
  {
   "cell_type": "code",
   "execution_count": 49,
   "id": "cf7d0791-05c5-40ce-809a-1120e06cd305",
   "metadata": {},
   "outputs": [
    {
     "name": "stdout",
     "output_type": "stream",
     "text": [
      "dict_items([('apple', 3), ('banana', 5), ('grape', 2), ('orange', 4)])\n",
      "dict_items([('apple', 3), ('banana', 5), ('grape', 2), ('orange', 4)])\n",
      "dict_items([('apple', 3), ('banana', 5), ('grape', 2), ('orange', 4)])\n",
      "dict_items([('apple', 3), ('banana', 5), ('grape', 2), ('orange', 4)])\n"
     ]
    }
   ],
   "source": [
    "for i in dict15:\n",
    "    print(dict15.items())"
   ]
  },
  {
   "cell_type": "code",
   "execution_count": 51,
   "id": "767950fc-9bc3-4a7e-9c02-df791fec6f9c",
   "metadata": {},
   "outputs": [
    {
     "ename": "TypeError",
     "evalue": "cannot convert dictionary update sequence element #0 to a sequence",
     "output_type": "error",
     "traceback": [
      "\u001b[1;31m---------------------------------------------------------------------------\u001b[0m",
      "\u001b[1;31mTypeError\u001b[0m                                 Traceback (most recent call last)",
      "Cell \u001b[1;32mIn[51], line 2\u001b[0m\n\u001b[0;32m      1\u001b[0m list1 \u001b[38;5;241m=\u001b[39m [\u001b[38;5;241m1\u001b[39m,\u001b[38;5;241m2\u001b[39m,\u001b[38;5;241m3\u001b[39m,\u001b[38;5;241m4\u001b[39m,\u001b[38;5;241m5\u001b[39m,\u001b[38;5;241m6\u001b[39m]\n\u001b[1;32m----> 2\u001b[0m dict16 \u001b[38;5;241m=\u001b[39m \u001b[38;5;28;43mdict\u001b[39;49m\u001b[43m(\u001b[49m\u001b[43mlist1\u001b[49m\u001b[43m)\u001b[49m\n\u001b[0;32m      3\u001b[0m dict16\n",
      "\u001b[1;31mTypeError\u001b[0m: cannot convert dictionary update sequence element #0 to a sequence"
     ]
    }
   ],
   "source": [
    "list1 = [1,2,3,4,5,6]\n",
    "dict16 = dict(list1)\n",
    "dict16"
   ]
  },
  {
   "cell_type": "code",
   "execution_count": 52,
   "id": "c7f6fc05-6013-47da-bee3-75c626e9bb78",
   "metadata": {},
   "outputs": [
    {
     "name": "stdout",
     "output_type": "stream",
     "text": [
      "{0: 1, 1: 2, 2: 3, 3: 4, 4: 5, 5: 6}\n"
     ]
    }
   ],
   "source": [
    "# converting list to dict\n",
    "list1 = [1, 2, 3, 4, 5, 6]\n",
    "dict16 = {index: value for index, value in enumerate(list1)}\n",
    "print(dict16)\n"
   ]
  },
  {
   "cell_type": "code",
   "execution_count": 53,
   "id": "8bf4307e-8a5e-4dbd-a5d5-00cd9be992c4",
   "metadata": {},
   "outputs": [
    {
     "name": "stdout",
     "output_type": "stream",
     "text": [
      "{'a': 1, 'b': 2, 'c': 3, 'd': 4, 'e': 5, 'f': 6}\n"
     ]
    }
   ],
   "source": [
    "#assigning key to list1 and converting to dict\n",
    "keys = ['a', 'b', 'c', 'd', 'e', 'f']\n",
    "dict16 = dict(zip(keys, list1))\n",
    "print(dict16)\n"
   ]
  },
  {
   "cell_type": "code",
   "execution_count": 55,
   "id": "ebf98e17-7cab-4169-9d9f-20a91c8821c8",
   "metadata": {},
   "outputs": [
    {
     "name": "stdout",
     "output_type": "stream",
     "text": [
      "{1: 'a', 2: 'b', '1': 'c', '2': 'd'}\n"
     ]
    }
   ],
   "source": [
    "dict17 = {1: 'a', 2: 'b'} # Merging Dictionaries:\n",
    "dict18 = {'1': 'c', '2': 'd'}\n",
    "\n",
    "dict19 = {**dict17, **dict18} # ** is used for dictionary unpacking\n",
    "\n",
    "print(dict19)\n"
   ]
  },
  {
   "cell_type": "code",
   "execution_count": 56,
   "id": "8d651201-5242-4a4a-9e5d-42a904f568ba",
   "metadata": {},
   "outputs": [
    {
     "ename": "SyntaxError",
     "evalue": "can't use starred expression here (3168896989.py, line 1)",
     "output_type": "error",
     "traceback": [
      "\u001b[1;36m  Cell \u001b[1;32mIn[56], line 1\u001b[1;36m\u001b[0m\n\u001b[1;33m    *dict17\u001b[0m\n\u001b[1;37m    ^\u001b[0m\n\u001b[1;31mSyntaxError\u001b[0m\u001b[1;31m:\u001b[0m can't use starred expression here\n"
     ]
    }
   ],
   "source": [
    "*dict17"
   ]
  },
  {
   "cell_type": "code",
   "execution_count": 57,
   "id": "c8e96e2c-0b92-4a5e-9cfe-0e9d18bba06f",
   "metadata": {},
   "outputs": [
    {
     "ename": "SyntaxError",
     "evalue": "invalid syntax (1819169040.py, line 1)",
     "output_type": "error",
     "traceback": [
      "\u001b[1;36m  Cell \u001b[1;32mIn[57], line 1\u001b[1;36m\u001b[0m\n\u001b[1;33m    **dict17\u001b[0m\n\u001b[1;37m    ^\u001b[0m\n\u001b[1;31mSyntaxError\u001b[0m\u001b[1;31m:\u001b[0m invalid syntax\n"
     ]
    }
   ],
   "source": [
    "**dict17"
   ]
  },
  {
   "cell_type": "code",
   "execution_count": 58,
   "id": "ab4c8b53-be95-40e8-932c-2c1424c50e58",
   "metadata": {},
   "outputs": [
    {
     "name": "stdout",
     "output_type": "stream",
     "text": [
      "a: 1, b: 2\n"
     ]
    }
   ],
   "source": [
    "#Passing Dictionary to Function\n",
    "#You can pass dictionary key-value pairs as keyword arguments to a function using **\n",
    "def example_function(a, b):\n",
    "    print(f\"a: {a}, b: {b}\")\n",
    "\n",
    "dict_args = {'a': 1, 'b': 2}\n",
    "example_function(**dict_args)\n"
   ]
  },
  {
   "cell_type": "code",
   "execution_count": 59,
   "id": "c56099b4-93d4-4ec1-89d3-98b1512f6257",
   "metadata": {},
   "outputs": [],
   "source": [
    "'''Common Causes of SyntaxError: invalid syntax:\n",
    "Incorrect Use of ** Unpacking:\n",
    "\n",
    "The ** syntax must be followed by a valid dictionary expression when used for unpacking.\n",
    "For example, {**dict1} or {**dict1, **dict2} are valid, \n",
    "but **dict1 alone is not syntactically correct outside of a dictionary context.\n",
    "Misplacement of ** Syntax:\n",
    "\n",
    "Placing ** incorrectly in expressions \n",
    "where it doesn't make sense can also lead to a SyntaxError. \n",
    "For instance, using it without a dictionary or attempting to unpack non-dictionary objects.'''"
   ]
  },
  {
   "cell_type": "code",
   "execution_count": 60,
   "id": "35dbc912-ba2a-4792-bf52-e9231324cbac",
   "metadata": {},
   "outputs": [
    {
     "name": "stdout",
     "output_type": "stream",
     "text": [
      "{'x': 1, 'y': 2}\n"
     ]
    }
   ],
   "source": [
    "dict17 = {'x': 1, 'y': 2}\n",
    "\n",
    "merged_dict = {**dict17}\n",
    "print(merged_dict)\n"
   ]
  },
  {
   "cell_type": "code",
   "execution_count": 61,
   "id": "6aeee27f-419e-4f89-978d-84e33c9c70d9",
   "metadata": {},
   "outputs": [
    {
     "name": "stdout",
     "output_type": "stream",
     "text": [
      "{'a': {'1': 1}, 'b': {'1': 1, '2': 2}, 'c': {'1': 1, '2': 2, '3': 3}}\n"
     ]
    }
   ],
   "source": [
    "#understanding of dictionary comprehension and nested dictionaries\n",
    "keys = ['a', 'b', 'c']\n",
    "values = [1, 2, 3]\n",
    "\n",
    "dict_result = {keys[i]: values[i] for i in range(len(keys))}\n",
    "nested_dict = {key: {str(value): value for value in range(1, value + 1)} for key, value in dict_result.items()}\n",
    "\n",
    "print(nested_dict)\n"
   ]
  },
  {
   "cell_type": "code",
   "execution_count": 62,
   "id": "a135a327-6cbe-4e79-9049-bfb4de942592",
   "metadata": {},
   "outputs": [
    {
     "name": "stdout",
     "output_type": "stream",
     "text": [
      "{1: {'a': 20, 'b': 40}, 2: {'a': 60, 'b': 80}}\n"
     ]
    }
   ],
   "source": [
    "#nested dictionary comprehension\n",
    "dict1 = {1: {'a': 10, 'b': 20}, 2: {'a': 30, 'b': 40}}\n",
    "\n",
    "dict2 = {key: {sub_key: sub_value * 2 for sub_key, sub_value in value.items()} for key, value in dict1.items()}\n",
    "\n",
    "print(dict2)\n"
   ]
  },
  {
   "cell_type": "code",
   "execution_count": 63,
   "id": "f52a827d-65d2-458b-a325-7723070cb2cd",
   "metadata": {},
   "outputs": [
    {
     "name": "stdout",
     "output_type": "stream",
     "text": [
      "{'a': {'A': 2, 'B': 4}, 'b': {'C': 6, 'D': 8}}\n"
     ]
    }
   ],
   "source": [
    "dict1 = {'A': {'a': 1, 'b': 2}, 'B': {'c': 3, 'd': 4}}\n",
    "\n",
    "dict2 = {key.lower(): {sub_key.upper(): sub_value * 2 for sub_key, sub_value in value.items()} for key, value in dict1.items()}\n",
    "\n",
    "print(dict2)\n"
   ]
  },
  {
   "cell_type": "code",
   "execution_count": 92,
   "id": "3c90becb-e214-408b-b665-4cb46a3b7e6f",
   "metadata": {},
   "outputs": [
    {
     "name": "stdout",
     "output_type": "stream",
     "text": [
      " case 1: {'a': 1, 'b': 2, 'c': 3, 'd': 4}\n",
      " case 2: {'a': 1, 'c': 3, 'd': 4}\n",
      " case 3: {'a': 1, 'c': 3, 'd': 4, 'e': 5}\n",
      "3\n",
      "None\n",
      " case 4: {'a': 1, 'd': 4, 'e': 5}\n",
      " case 5: {'a': 1, 'd': 4, 'e': 5}\n",
      "Key not found\n",
      "case 6: 5\n",
      "case 7: 5\n",
      "case 8: None\n"
     ]
    },
    {
     "ename": "KeyError",
     "evalue": "'z'",
     "output_type": "error",
     "traceback": [
      "\u001b[1;31m---------------------------------------------------------------------------\u001b[0m",
      "\u001b[1;31mKeyError\u001b[0m                                  Traceback (most recent call last)",
      "Cell \u001b[1;32mIn[92], line 18\u001b[0m\n\u001b[0;32m     16\u001b[0m \u001b[38;5;28mprint\u001b[39m(\u001b[38;5;124m\"\u001b[39m\u001b[38;5;124mcase 7:\u001b[39m\u001b[38;5;124m\"\u001b[39m,dict1\u001b[38;5;241m.\u001b[39mget(\u001b[38;5;124m'\u001b[39m\u001b[38;5;124me\u001b[39m\u001b[38;5;124m'\u001b[39m, \u001b[38;5;124m'\u001b[39m\u001b[38;5;124mvalue found\u001b[39m\u001b[38;5;124m'\u001b[39m))\n\u001b[0;32m     17\u001b[0m \u001b[38;5;28mprint\u001b[39m(\u001b[38;5;124m\"\u001b[39m\u001b[38;5;124mcase 8:\u001b[39m\u001b[38;5;124m\"\u001b[39m,dict1\u001b[38;5;241m.\u001b[39mget(\u001b[38;5;124m'\u001b[39m\u001b[38;5;124mz\u001b[39m\u001b[38;5;124m'\u001b[39m)) \u001b[38;5;66;03m# if key dont exists get() return None\u001b[39;00m\n\u001b[1;32m---> 18\u001b[0m \u001b[38;5;28mprint\u001b[39m(\u001b[43mdict1\u001b[49m\u001b[38;5;241;43m.\u001b[39;49m\u001b[43mpop\u001b[49m\u001b[43m(\u001b[49m\u001b[38;5;124;43m'\u001b[39;49m\u001b[38;5;124;43mz\u001b[39;49m\u001b[38;5;124;43m'\u001b[39;49m\u001b[43m)\u001b[49m)\n",
      "\u001b[1;31mKeyError\u001b[0m: 'z'"
     ]
    }
   ],
   "source": [
    "dict1 = {'a': 1, 'b': 2, 'c': 3}\n",
    "\n",
    "dict1['d'] = 4\n",
    "print(\" case 1:\",dict1)\n",
    "del dict1['b']\n",
    "print(\" case 2:\",dict1)\n",
    "dict1.update({'e': 5})\n",
    "print(\" case 3:\",dict1)\n",
    "print(dict1.pop('c', None))\n",
    "print(dict1.pop('z', None)) # key dont exists pop() return None\n",
    "print(\" case 4:\",dict1)\n",
    "#print(dict1.pop())\n",
    "print(\" case 5:\",dict1)\n",
    "print(dict1.get('f', 'Key not found'))\n",
    "print(\"case 6:\",dict1.get('e'))\n",
    "print(\"case 7:\",dict1.get('e', 'value found'))\n",
    "print(\"case 8:\",dict1.get('z')) # if key dont exists get() return None\n",
    "print(dict1.pop('z')) # key dont exists and not given default None, pop() throws key error\n"
   ]
  },
  {
   "cell_type": "code",
   "execution_count": 69,
   "id": "c944dd66-b422-4a2a-ab50-0a3f141ed7fb",
   "metadata": {},
   "outputs": [
    {
     "ename": "TypeError",
     "evalue": "pop expected at least 1 argument, got 0",
     "output_type": "error",
     "traceback": [
      "\u001b[1;31m---------------------------------------------------------------------------\u001b[0m",
      "\u001b[1;31mTypeError\u001b[0m                                 Traceback (most recent call last)",
      "Cell \u001b[1;32mIn[69], line 1\u001b[0m\n\u001b[1;32m----> 1\u001b[0m \u001b[38;5;28mprint\u001b[39m(\u001b[43mdict1\u001b[49m\u001b[38;5;241;43m.\u001b[39;49m\u001b[43mpop\u001b[49m\u001b[43m(\u001b[49m\u001b[43m)\u001b[49m)\n",
      "\u001b[1;31mTypeError\u001b[0m: pop expected at least 1 argument, got 0"
     ]
    }
   ],
   "source": [
    "print(dict1.pop())"
   ]
  },
  {
   "cell_type": "code",
   "execution_count": 74,
   "id": "f386ebad-31d2-4e83-a52c-459190324f20",
   "metadata": {},
   "outputs": [
    {
     "ename": "TypeError",
     "evalue": "'list' object is not callable",
     "output_type": "error",
     "traceback": [
      "\u001b[1;31m---------------------------------------------------------------------------\u001b[0m",
      "\u001b[1;31mTypeError\u001b[0m                                 Traceback (most recent call last)",
      "Cell \u001b[1;32mIn[74], line 3\u001b[0m\n\u001b[0;32m      1\u001b[0m \u001b[38;5;66;03m#Casting a dictionary to a list in Python results in a list of the dictionary's keys\u001b[39;00m\n\u001b[0;32m      2\u001b[0m dict_example \u001b[38;5;241m=\u001b[39m {\u001b[38;5;124m'\u001b[39m\u001b[38;5;124ma\u001b[39m\u001b[38;5;124m'\u001b[39m: \u001b[38;5;241m1\u001b[39m, \u001b[38;5;124m'\u001b[39m\u001b[38;5;124mb\u001b[39m\u001b[38;5;124m'\u001b[39m: \u001b[38;5;241m2\u001b[39m, \u001b[38;5;124m'\u001b[39m\u001b[38;5;124mc\u001b[39m\u001b[38;5;124m'\u001b[39m: \u001b[38;5;241m3\u001b[39m}\n\u001b[1;32m----> 3\u001b[0m list_example \u001b[38;5;241m=\u001b[39m \u001b[38;5;28;43mlist\u001b[39;49m\u001b[43m(\u001b[49m\u001b[43mdict_example\u001b[49m\u001b[43m)\u001b[49m\n\u001b[0;32m      4\u001b[0m \u001b[38;5;28mprint\u001b[39m(list_example)\n",
      "\u001b[1;31mTypeError\u001b[0m: 'list' object is not callable"
     ]
    }
   ],
   "source": [
    "#Casting a dictionary to a list in Python results in a list of the dictionary's keys\n",
    "dict_example = {'a': 1, 'b': 2, 'c': 3}\n",
    "list_example = list(dict_example)\n",
    "print(list_example)\n",
    "# This code will work if you try it in new file. and prints ['a', 'b', 'c']"
   ]
  },
  {
   "cell_type": "code",
   "execution_count": null,
   "id": "7effe624-9161-424f-968f-4fc8d5a83d12",
   "metadata": {},
   "outputs": [],
   "source": [
    "# The above error occurs due to following reason \"list object is not callable\"\n",
    "#this error occures, because there is variable or \n",
    "#object named 'list' in the current scope that shadows the build-in 'list'"
   ]
  },
  {
   "cell_type": "code",
   "execution_count": 75,
   "id": "b49c4fea-a002-4a02-b773-b3faa28ccb74",
   "metadata": {},
   "outputs": [
    {
     "ename": "TypeError",
     "evalue": "'list' object is not callable",
     "output_type": "error",
     "traceback": [
      "\u001b[1;31m---------------------------------------------------------------------------\u001b[0m",
      "\u001b[1;31mTypeError\u001b[0m                                 Traceback (most recent call last)",
      "Cell \u001b[1;32mIn[75], line 4\u001b[0m\n\u001b[0;32m      1\u001b[0m \u001b[38;5;28mlist\u001b[39m \u001b[38;5;241m=\u001b[39m [\u001b[38;5;241m1\u001b[39m, \u001b[38;5;241m2\u001b[39m, \u001b[38;5;241m3\u001b[39m]  \u001b[38;5;66;03m# This shadows the built-in list function\u001b[39;00m\n\u001b[0;32m      3\u001b[0m dict_example \u001b[38;5;241m=\u001b[39m {\u001b[38;5;124m'\u001b[39m\u001b[38;5;124ma\u001b[39m\u001b[38;5;124m'\u001b[39m: \u001b[38;5;241m1\u001b[39m, \u001b[38;5;124m'\u001b[39m\u001b[38;5;124mb\u001b[39m\u001b[38;5;124m'\u001b[39m: \u001b[38;5;241m2\u001b[39m, \u001b[38;5;124m'\u001b[39m\u001b[38;5;124mc\u001b[39m\u001b[38;5;124m'\u001b[39m: \u001b[38;5;241m3\u001b[39m}\n\u001b[1;32m----> 4\u001b[0m list_example \u001b[38;5;241m=\u001b[39m \u001b[38;5;28;43mlist\u001b[39;49m\u001b[43m(\u001b[49m\u001b[43mdict_example\u001b[49m\u001b[43m)\u001b[49m  \u001b[38;5;66;03m# This will cause the TypeError\u001b[39;00m\n\u001b[0;32m      5\u001b[0m \u001b[38;5;28mprint\u001b[39m(list_example)\n",
      "\u001b[1;31mTypeError\u001b[0m: 'list' object is not callable"
     ]
    }
   ],
   "source": [
    "# This code will not work anywhere \n",
    "list = [1, 2, 3]  # This shadows the built-in list function\n",
    "\n",
    "dict_example = {'a': 1, 'b': 2, 'c': 3}\n",
    "list_example = list(dict_example)  # This will cause the TypeError\n",
    "print(list_example)\n"
   ]
  },
  {
   "cell_type": "code",
   "execution_count": null,
   "id": "fbeaf667-f2b5-4a5b-9e49-5fdf5509951f",
   "metadata": {},
   "outputs": [],
   "source": [
    "# tried in VS code IDE, it works\n",
    "dict1 = {'a': 10, 'b': 20, 'c': 30}\n",
    "dict2 = {'d': 40, 'e': 50, 'f': 60}\n",
    "\n",
    "combined_keys = list(dict1) + list(dict2)\n",
    "combined_values = list(dict1.values()) + list(dict2.values())\n",
    "\n",
    "zipped_result = list(zip(combined_keys, combined_values))\n",
    "\n",
    "print(zipped_result)\n",
    "\n",
    "print(zip(combined_keys, combined_values)) # prints zip object memory location.\n",
    "\n",
    "#output === [('a', 10), ('b', 20), ('c', 30), ('d', 40), ('e', 50), ('f', 60)]\n",
    "#<zip object at 0x000001D00716EB80>"
   ]
  },
  {
   "cell_type": "code",
   "execution_count": null,
   "id": "edb41c5f-4104-4584-a779-ff2a4cc92e5c",
   "metadata": {},
   "outputs": [],
   "source": [
    "# This works in VS code IDE \n",
    "dict1 = {1: 'one', 2: 'two', 3: 'three'}\n",
    "dict2 = {4: 'four', 5: 'five'}\n",
    "\n",
    "result = {key: val for key, val in zip(list(dict1) + list(dict2), list(dict1.values()) + list(dict2.values()))}\n",
    "\n",
    "print(result)\n",
    "# output ===== {1: 'one', 2: 'two', 3: 'three', 4: 'four', 5: 'five'}"
   ]
  },
  {
   "cell_type": "code",
   "execution_count": 76,
   "id": "3395ba20-3055-4029-bf84-4d5690a4d6c4",
   "metadata": {},
   "outputs": [
    {
     "name": "stdout",
     "output_type": "stream",
     "text": [
      "1\n",
      "2\n"
     ]
    }
   ],
   "source": [
    "dict5 = {'a': 1, 'b': 2, 'c': 3}\n",
    "\n",
    "value1 = dict5.get('d', dict5.get('a'))\n",
    "value2 = dict5.get('e', dict5.get('b'))\n",
    "\n",
    "print(value1)\n",
    "print(value2)\n",
    "'''The get() method returns the value for the specified key if the key is in the dictionary.\n",
    "If not, it returns the default value provided.\n",
    "dict5.get('d', dict5.get('a')) looks for key 'd'. Since 'd' is not present,\n",
    "it returns the value of dict5.get('a'), which is 1.\n",
    "dict5.get('e', dict5.get('b')) looks for key 'e'. Since 'e' is not present,\n",
    "it returns the value of dict5.get('b'), which is 2.'''"
   ]
  },
  {
   "cell_type": "code",
   "execution_count": 80,
   "id": "39ceda1c-72d9-4977-8d5b-732733b54424",
   "metadata": {},
   "outputs": [
    {
     "name": "stdout",
     "output_type": "stream",
     "text": [
      "The value for key 'a' is: 1\n",
      "The value for key 'a' is: 1\n",
      "The value for key 'd' is: 4\n",
      "The value for key 'd' is: None\n",
      "Updated dictionary: {'a': 1, 'b': 2, 'c': 3, 'd': 4, 'f': None}\n"
     ]
    }
   ],
   "source": [
    "# Initialize a dictionary\n",
    "dict1 = {'a': 1, 'b': 2, 'c': 3}\n",
    "\n",
    "# Use setdefault() to get the value of an existing key\n",
    "value_a = dict1.setdefault('a', 5)\n",
    "print(f\"The value for key 'a' is: {value_a}\")  # Output: The value for key 'a' is: 1\n",
    "value_a = dict1.setdefault('a')\n",
    "print(f\"The value for key 'a' is: {value_a}\")  # Output: The value for key 'a' is: 1\n",
    "# Use setdefault() to insert a new key with a default value\n",
    "value_d = dict1.setdefault('d', 4)\n",
    "print(f\"The value for key 'd' is: {value_d}\")  # Output: The value for key 'd' is: 4\n",
    "value_d = dict1.setdefault('f')\n",
    "print(f\"The value for key 'd' is: {value_d}\")  # Output: The value for key 'd' is: 4\n",
    "\n",
    "# Print the updated dictionary\n",
    "print(\"Updated dictionary:\", dict1)  # Output: Updated dictionary: {'a': 1, 'b': 2, 'c': 3, 'd': 4}\n"
   ]
  },
  {
   "cell_type": "code",
   "execution_count": 87,
   "id": "1f582ef0-f621-4b38-bcbe-5637768e6e9a",
   "metadata": {},
   "outputs": [
    {
     "name": "stdout",
     "output_type": "stream",
     "text": [
      "Initial dictionary: {'a': [1], 'b': [1], 'c': [1]}\n",
      "<class 'list'>\n",
      "Updated dictionary: {'a': [1, 2], 'b': [1, 2], 'c': [1, 2]}\n"
     ]
    }
   ],
   "source": [
    "# List of keys\n",
    "keys = ['a', 'b', 'c']\n",
    "\n",
    "# Use fromkeys() to create a new dictionary with all values set to a list containing 1\n",
    "value = [1]\n",
    "dict2 = dict.fromkeys(keys, value)\n",
    "print(\"Initial dictionary:\", dict2)  # Output: Initial dictionary: {'a': [1], 'b': [1], 'c': [1]}\n",
    "\n",
    "# Modify the value of one key\n",
    "dict2['a'].append(2)\n",
    "print(type(dict2['a']))\n",
    "# Print the updated dictionary\n",
    "\n",
    "print(\"Updated dictionary:\", dict2) \n",
    "#Output: Updated dictionary: {'a': [1, 2], 'b': [1, 2], 'c': [1, 2]}\n"
   ]
  },
  {
   "cell_type": "code",
   "execution_count": 88,
   "id": "7d421ab8-7615-4f4a-a872-3edca65487b4",
   "metadata": {},
   "outputs": [
    {
     "name": "stdout",
     "output_type": "stream",
     "text": [
      "Removed item: ('c', 3)\n",
      "Error: 'popitem(): dictionary is empty'\n"
     ]
    },
    {
     "ename": "TypeError",
     "evalue": "popitem() takes no arguments (2 given)",
     "output_type": "error",
     "traceback": [
      "\u001b[1;31m---------------------------------------------------------------------------\u001b[0m",
      "\u001b[1;31mTypeError\u001b[0m                                 Traceback (most recent call last)",
      "Cell \u001b[1;32mIn[88], line 15\u001b[0m\n\u001b[0;32m     13\u001b[0m \u001b[38;5;28;01mexcept\u001b[39;00m \u001b[38;5;167;01mKeyError\u001b[39;00m \u001b[38;5;28;01mas\u001b[39;00m e:\n\u001b[0;32m     14\u001b[0m     \u001b[38;5;28mprint\u001b[39m(\u001b[38;5;124mf\u001b[39m\u001b[38;5;124m\"\u001b[39m\u001b[38;5;124mError: \u001b[39m\u001b[38;5;132;01m{\u001b[39;00me\u001b[38;5;132;01m}\u001b[39;00m\u001b[38;5;124m\"\u001b[39m)  \u001b[38;5;66;03m# Output: Error: 'popitem(): dictionary is empty'\u001b[39;00m\n\u001b[1;32m---> 15\u001b[0m item1 \u001b[38;5;241m=\u001b[39m \u001b[43mdict3\u001b[49m\u001b[38;5;241;43m.\u001b[39;49m\u001b[43mpopitem\u001b[49m\u001b[43m(\u001b[49m\u001b[38;5;124;43m'\u001b[39;49m\u001b[38;5;124;43ma\u001b[39;49m\u001b[38;5;124;43m'\u001b[39;49m\u001b[43m,\u001b[49m\u001b[38;5;241;43m1\u001b[39;49m\u001b[43m)\u001b[49m\n\u001b[0;32m     16\u001b[0m \u001b[38;5;28mprint\u001b[39m(\u001b[38;5;124mf\u001b[39m\u001b[38;5;124m\"\u001b[39m\u001b[38;5;124mRemoved item: \u001b[39m\u001b[38;5;132;01m{\u001b[39;00mitem1\u001b[38;5;132;01m}\u001b[39;00m\u001b[38;5;124m\"\u001b[39m)\n",
      "\u001b[1;31mTypeError\u001b[0m: popitem() takes no arguments (2 given)"
     ]
    }
   ],
   "source": [
    "#The popitem() method removes and returns the last key-value pair inserted into the dictionary.\n",
    "#If the dictionary is empty, it raises a KeyError.\n",
    "# Initialize a dictionary\n",
    "dict3 = {'a': 1, 'b': 2, 'c': 3}\n",
    "\n",
    "# Use popitem() to remove and return the last inserted key-value pair\n",
    "item1 = dict3.popitem()\n",
    "print(f\"Removed item: {item1}\")  # Output: Removed item: ('c', 3)\n",
    "\n",
    "empty_dict = {}\n",
    "try:\n",
    "    empty_dict.popitem()\n",
    "except KeyError as e:\n",
    "    print(f\"Error: {e}\")  # Output: Error: 'popitem(): dictionary is empty'\n",
    "    \n",
    "item1 = dict3.popitem('a',1)\n",
    "print(f\"Removed item: {item1}\") # Output: Error: 'popitem(): Takes no arguments'"
   ]
  },
  {
   "cell_type": "code",
   "execution_count": 93,
   "id": "e870dada-554d-4c71-b15a-f2a62bf04004",
   "metadata": {},
   "outputs": [
    {
     "name": "stdout",
     "output_type": "stream",
     "text": [
      "{}\n"
     ]
    }
   ],
   "source": [
    "dict1 = {'a': 1, 'b': 2, 'c': 3}\n",
    "dict1.clear()\n",
    "print(dict1)  # Output: {}\n"
   ]
  },
  {
   "cell_type": "code",
   "execution_count": 95,
   "id": "e9a2820f-3292-4041-b344-9848dcebeb6b",
   "metadata": {},
   "outputs": [
    {
     "name": "stdout",
     "output_type": "stream",
     "text": [
      "{'a': 1, 'b': 2, 'c': 3}\n",
      "2056436754560 2056436753408\n"
     ]
    }
   ],
   "source": [
    "#Returns a shallow copy of the dictionary\n",
    "dict1 = {'a': 1, 'b': 2, 'c': 3}\n",
    "dict2 = dict1.copy()\n",
    "print(dict2)  # Output: {'a': 1, 'b': 2, 'c': 3}\n",
    "print(id(dict1), id(dict2))"
   ]
  },
  {
   "cell_type": "code",
   "execution_count": null,
   "id": "a771ffce-7a6b-4401-aa18-99fb92c00eef",
   "metadata": {},
   "outputs": [],
   "source": [
    "\"\"\"A shallow copy of a dictionary creates a new dictionary, \n",
    "but it only copies the references to the objects contained in the original dictionary. \n",
    "This means that if the original dictionary contains nested dictionaries or \n",
    "other mutable objects, the shallow copy will still reference the same nested objects.\"\"\""
   ]
  },
  {
   "cell_type": "code",
   "execution_count": null,
   "id": "9cad61f8-bb48-4e2f-a504-5e91b22301d6",
   "metadata": {},
   "outputs": [],
   "source": [
    "import copy\n",
    "\n",
    "# Original dictionary\n",
    "dict1 = {'a': 1, 'b': 2, 'c': {'d': 4, 'e': 5}}\n",
    "\n",
    "# Shallow copy\n",
    "dict2 = dict1.copy()\n",
    "\n",
    "# Modify nested dictionary in the original dictionary\n",
    "dict1['c']['d'] = 40\n",
    "\n",
    "print(\"Original dictionary:\", dict1)  # Output: {'a': 1, 'b': 2, 'c': {'d': 40, 'e': 5}}\n",
    "print(\"Shallow copy:\", dict2)  # Output: {'a': 1, 'b': 2, 'c': {'d': 40, 'e': 5}}\n"
   ]
  },
  {
   "cell_type": "code",
   "execution_count": null,
   "id": "24692350-feed-47a0-82c4-67ea13076b80",
   "metadata": {},
   "outputs": [],
   "source": [
    "'''there is a concept of deep copy in dictionary, \n",
    "but we cant try it in single level dictionary because it will act likea shallow copy only'''\n"
   ]
  },
  {
   "cell_type": "code",
   "execution_count": null,
   "id": "e2feabca-7d38-4bab-bd40-081a0344e6b3",
   "metadata": {},
   "outputs": [],
   "source": [
    "'''A deep copy of a dictionary creates a new dictionary \n",
    "and recursively copies all objects found in the original dictionary. \n",
    "This means that nested dictionaries and other mutable objects are also copied, \n",
    "and changes to the original dictionary will not affect the deep copy.'''"
   ]
  },
  {
   "cell_type": "code",
   "execution_count": null,
   "id": "af7447e5-5442-4613-b54b-4075d1a1dd19",
   "metadata": {},
   "outputs": [],
   "source": [
    "import copy\n",
    "\n",
    "# Original dictionary\n",
    "dict1 = {'a': 1, 'b': 2, 'c': {'d': 4, 'e': 5}}\n",
    "\n",
    "# Deep copy\n",
    "dict3 = copy.deepcopy(dict1)\n",
    "\n",
    "# Modify nested dictionary in the original dictionary\n",
    "dict1['c']['d'] = 40\n",
    "\n",
    "print(\"Original dictionary:\", dict1)  # Output: {'a': 1, 'b': 2, 'c': {'d': 40, 'e': 5}}\n",
    "print(\"Deep copy:\", dict3)  # Output: {'a': 1, 'b': 2, 'c': {'d': 4, 'e': 5}}\n"
   ]
  },
  {
   "cell_type": "code",
   "execution_count": null,
   "id": "e5a615e8-4a5a-4e29-a744-0d1158d29a4c",
   "metadata": {},
   "outputs": [],
   "source": [
    "'''Commonly Used Dictionary Methods as per PEP8 standard. \n",
    "get()\n",
    "setdefault()\n",
    "update()\n",
    "keys()\n",
    "values()\n",
    "items()\n",
    "pop()\n",
    "popitem()\n",
    "clear()\n",
    "copy()'''"
   ]
  }
 ],
 "metadata": {
  "kernelspec": {
   "display_name": "Python 3 (ipykernel)",
   "language": "python",
   "name": "python3"
  },
  "language_info": {
   "codemirror_mode": {
    "name": "ipython",
    "version": 3
   },
   "file_extension": ".py",
   "mimetype": "text/x-python",
   "name": "python",
   "nbconvert_exporter": "python",
   "pygments_lexer": "ipython3",
   "version": "3.8.18"
  }
 },
 "nbformat": 4,
 "nbformat_minor": 5
}
